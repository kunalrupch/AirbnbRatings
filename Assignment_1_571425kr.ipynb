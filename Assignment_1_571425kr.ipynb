{
 "cells": [
  {
   "cell_type": "markdown",
   "id": "22c3933d-cc8a-4288-b1c0-5da718ae542b",
   "metadata": {},
   "source": [
    "# Learning from Big Data: Module 1 - Final Assignment\n",
    "\n",
    "#### Student Name: KUNAL RUPCHANDANI 571425KR"
   ]
  },
  {
   "cell_type": "markdown",
   "id": "592fa644-fe0c-4e3b-aa36-d220d7337764",
   "metadata": {
    "jp-MarkdownHeadingCollapsed": true
   },
   "source": [
    "# Introduction"
   ]
  },
  {
   "cell_type": "markdown",
   "id": "6e580859-86f2-4156-995b-59938c2e3a62",
   "metadata": {},
   "source": [
    "This file provides a template for **Assignment 1** from the Learning from Big Data course. This Jupyter Notebook file was prepared to save you time so that you can focus on the theory and technical parts of the methods seen in class. This was prepared with a specific application in mind: *movie reviews*. For the supervised learning tasks, we will focus on three topics: acting, storyline, and visual/sound effects.\n",
    "\n",
    "You have by now received the dataset of reviews, the three dictionaries with the training set of words for each topic, a list of stopwords, and a validation dataset containing sentences classified by a panel of human judges. This Jupyter Notebook file has a lot of (Python) code written to handle things such as leading these data files and general settings of the environment we use to perform the analysis. The supervised learning code in this file was covered in **Session 02**.\n",
    "\n",
    "This Jupyter Notebook file will load all the above-mentioned files and make them available for you to use them for solving the NLP problems listed here. The questions **you are to answer** are marked as \"`QUESTION`\". The parts **you are expected to code yourself** are marked as \"`# ADD YOUR CODE HERE`\". There, you are expected to write your own code based on the in-class discussions and the decisions you will make as you study the theory, material, and models."
   ]
  },
  {
   "cell_type": "markdown",
   "id": "049a700a-ecff-4703-b5f6-6cf177018095",
   "metadata": {},
   "source": [
    "#### This assignment has the following structure:\n",
    "1. **General Guidelines**\n",
    "2. **Research Question**\n",
    "3. **Load the Packages**\n",
    "4. **Load the Reviews**\n",
    "5. **Data Aggregation and Formatting**\n",
    "6. **Supervised Learning: The Naive Bayes Classifier (NBC)**\n",
    "7. **Supervised Learning: Inspect the NBC Performance**\n",
    "8. **Unsupervised Learning: Predicting the Box Office using LDA**\n",
    "9. **Unsupervised Learning: Predicting the Box Office using Word2Vec**\n",
    "10. **Analysis - Answering the Research Question**\n",
    "11. **OPTIONAL - Run and interpret the VADER lexicon for sentiment**\n",
    "12. **APPENDIX**"
   ]
  },
  {
   "cell_type": "markdown",
   "id": "ad34c54a-0507-4507-84d8-11077b7ecb6f",
   "metadata": {},
   "source": [
    "# 1. General Guidelines"
   ]
  },
  {
   "cell_type": "markdown",
   "id": "d675b7a6-9a9b-40d1-b854-385a651e5a35",
   "metadata": {},
   "source": [
    "**Page limit**. This template has 8 pages, and you are allowed to add 8 to 10 pages (not including the appendix). Even though there is a page limit, you have the possibility of using appendices, which do not have a limitation in the number of pages. Use your pages wisely. For example, having a table with 2 rows and 3 columns that uses 50% (or even 25%) of a page is not really wise."
   ]
  },
  {
   "cell_type": "markdown",
   "id": "f905274a-44dc-4cb3-b777-869d7d4dddb5",
   "metadata": {},
   "source": [
    "# 2. Research Question"
   ]
  },
  {
   "cell_type": "markdown",
   "id": "b60d757a-86ff-4b28-a967-106867a585b2",
   "metadata": {},
   "source": [
    "`QUESTION I:` Present here the main research question you are going to answer with your text analysis.\n",
    "You are free to choose the problem and change it until the last minute before handing in your report. However, your question should not be so simple that it does not require text analysis. For example, if your question can be answered by reading two reviews, you do not need text analysis; all you need is 10 seconds to read two reviews. Your question should not be so difficult that you cannot answer in your report. Your question needs to be answered in these pages.\n",
    "\n",
    "\n"
   ]
  },
  {
   "attachments": {},
   "cell_type": "markdown",
   "id": "72bda564-933f-4635-bdf8-4f8433a0ed76",
   "metadata": {},
   "source": [
    "`SOLUTION I:` \n",
    "Research Question: To what extent are Airbnb ratings affected when sentiment about the host and sentiment towards cleanliness, location and facilities of the Airbnb are mentioned in an Airbnb review?"
   ]
  },
  {
   "cell_type": "markdown",
   "id": "d3ad0d6d-9027-44c0-a5c2-6fc68fdd25c4",
   "metadata": {},
   "source": [
    "# 3. Load the Packages"
   ]
  },
  {
   "cell_type": "markdown",
   "id": "07cb610e-8067-48c0-bbe9-42854f08f160",
   "metadata": {},
   "source": [
    "Before starting the problem set, make sure that you have all the required packages installed properly. Simply run the code cell below (Shift-Enter). **Note**: you are free to add other packages."
   ]
  },
  {
   "cell_type": "code",
   "execution_count": 430,
   "id": "3f4aaa19-c7e8-4a7b-a8d2-42c2a4d21938",
   "metadata": {},
   "outputs": [],
   "source": [
    "# Loading the required packages\n",
    "import re\n",
    "import string\n",
    "import numpy as np\n",
    "import pandas as pd\n",
    "import nltk\n",
    "import ssl\n",
    "from collections import Counter, namedtuple\n",
    "from sklearn.feature_extraction import text\n",
    "from sklearn import linear_model\n",
    "from sklearn.feature_extraction.text import CountVectorizer\n",
    "from sklearn.metrics import confusion_matrix, accuracy_score\n",
    "from nltk.corpus import stopwords\n",
    "from sklearn.decomposition import LatentDirichletAllocation\n",
    "from gensim.models import Word2Vec\n",
    "from gensim.utils import simple_preprocess\n",
    "from vaderSentiment.vaderSentiment import SentimentIntensityAnalyzer\n",
    "from sklearn.linear_model import LinearRegression\n",
    "from tqdm import tqdm\n",
    "from sklearn.model_selection import train_test_split\n",
    "from sklearn import metrics\n",
    "from sklearn.metrics import ConfusionMatrixDisplay\n",
    "from sklearn.metrics import precision_score, accuracy_score, recall_score, f1_score\n",
    "from sklearn.cluster import KMeans\n",
    "import matplotlib.pyplot as plt\n",
    "import numbers\n",
    "import statsmodels.api as sm\n",
    "import math\n",
    "\n",
    "# Try Except block to ensure nltk is imported without any errors\n",
    "try:\n",
    "    _create_unverified_https_context = ssl._create_unverified_context\n",
    "except AttributeError:\n",
    "    pass\n",
    "else:\n",
    "    ssl._create_default_https_context = _create_unverified_https_context\n",
    "\n",
    "from nltk import ne_chunk, pos_tag, word_tokenize\n",
    "from nltk.tree import Tree"
   ]
  },
  {
   "cell_type": "markdown",
   "id": "346fffeb-b36d-4362-ae78-8a1fc44dedcc",
   "metadata": {},
   "source": [
    "# 4. Load the Airbnb Reviews"
   ]
  },
  {
   "cell_type": "markdown",
   "id": "e23532f2-050f-452a-94cf-06d511c96298",
   "metadata": {},
   "source": [
    "The raw data set contains the following columns:\n",
    "+ **Title**: The title of the Airbnb property\n",
    "+ **Image**: Link to the propery main image\n",
    "+ **Rating**: Average rating of the Airbnb by users\n",
    "+ **Total Reviews**: Total number of reviews, the property received from the users\n",
    "+ **Location**: The country where the Airbnb is situated\n",
    "+ **Price**: The price of the Airbnb per night\n",
    "+ **Reviews**: List of Reviews per Airbnb\n",
    "  \n",
    "The data that is relevant to answering the RQ:\n",
    "+ **Reviews**: Reviews split into sentences to be able to determine the category\n",
    "+ **Total Reviews**: Total number of reviews corresponding to the proper\n",
    "+ **Rating**: Average rating of the Airbnb by users (Float)\n",
    "\n",
    "Variables that are created to assist in answering the research question\n",
    "+ **Host_mentioned**: Binary variable that indicates if the review mentions the host (by name or as the 'host')\n",
    "+ **P(positive|cleanliness)**: The probability of the review being positive across reviews talking about cleanliness\n",
    "+ **P(positive|location)**: The probability of the review being positive across reviews talking about location\n",
    "+ **P(positive|facilities)**: The probability of the review being positive across reviews talking about facilities"
   ]
  },
  {
   "cell_type": "markdown",
   "id": "8d782cb1-995a-438b-9d18-ac2560da8515",
   "metadata": {},
   "source": [
    "### Loading the reviews:"
   ]
  },
  {
   "cell_type": "code",
   "execution_count": 307,
   "id": "c9e96352-fe9e-4c75-9710-3f7b2315dc92",
   "metadata": {},
   "outputs": [
    {
     "name": "stderr",
     "output_type": "stream",
     "text": [
      "3324it [00:38, 85.68it/s] \n"
     ]
    }
   ],
   "source": [
    "# Loading the data\n",
    "reviews_raw = pd.read_csv('../data/reviews/airbnb_reviews.csv', encoding='ISO-8859-1')\n",
    "\n",
    "# Removing the columns that are not needed\n",
    "reviews_raw = reviews_raw[['Rating','Total Reviews', 'Reviews']]\n",
    "\n",
    "# Removing all rows that are empty\n",
    "reviews_cleaned = reviews_raw.dropna(subset = ['Rating','Total Reviews', 'Reviews'], how = 'any')\n",
    "\n",
    "#Creating a dataframe where each row corresponds to one sentence (considered as a review from this point onwards)\n",
    "sentence_level = pd.DataFrame(columns = ['Rating','Total Reviews', 'Reviews'])\n",
    "\n",
    "i = 0\n",
    "\n",
    "for index, row in tqdm(reviews_cleaned.iterrows()):\n",
    "    rating = reviews_cleaned.loc[index, 'Rating']\n",
    "    total_reviews = reviews_cleaned.loc[index, 'Total Reviews']\n",
    "    \n",
    "    #This was done to split the reviews into a sentence level for \n",
    "    reviews = row['Reviews']\n",
    "    delimiter_pattern = r'[.!]'\n",
    "    reviews = re.split(delimiter_pattern, reviews)\n",
    "\n",
    "    for sentence in reviews:\n",
    "        new_row = [rating, total_reviews, sentence]\n",
    "        sentence_level.loc[i] = new_row\n",
    "        i += 1"
   ]
  },
  {
   "cell_type": "markdown",
   "id": "4827ae7a-b3c3-49e1-b1a0-db75d5404475",
   "metadata": {},
   "source": [
    "# 5. Data Aggregation and Formatting"
   ]
  },
  {
   "cell_type": "code",
   "execution_count": 308,
   "id": "18ad8342-7385-4492-b668-e73456bfc08e",
   "metadata": {
    "scrolled": true
   },
   "outputs": [
    {
     "name": "stderr",
     "output_type": "stream",
     "text": [
      "100%|█████████████████████████████████| 59883/59883 [00:00<00:00, 254170.02it/s]\n",
      "59883it [01:08, 878.83it/s] \n",
      "59883it [00:00, 70850.02it/s]\n",
      "100%|█████████████████████████████████| 59883/59883 [00:00<00:00, 107274.70it/s]\n"
     ]
    }
   ],
   "source": [
    "# Text that do not contain any alphabetical characters are removed\n",
    "mask = ~sentence_level['Reviews'].str.contains('[a-zA-Z]')\n",
    "sentence_level = sentence_level[~mask]\n",
    "\n",
    "# We remove all the stopwords manually through this function\n",
    "stop_words = stopwords.words('english')\n",
    "def remove_stopwords(sentence):\n",
    "    words = sentence.split()  # Tokenize the sentence into words\n",
    "    filtered_words = [word for word in words if word.lower() not in stop_words]  # Remove stopwords\n",
    "    return \" \".join(filtered_words)  # Return a list of words without stopwords\n",
    "\n",
    "# Function that removes puncutation, numbers and any characters except alphabetical characters\n",
    "def preprocessing(text):\n",
    "\n",
    "    #Removing all characters such as '-' and replacing it whitespaces and only containing alphabets\n",
    "    text = re.sub('[^a-zA-Z ]', '', text)\n",
    "\n",
    "    #removing punctuation\n",
    "    for word in text:\n",
    "        if(word in string.punctuation):\n",
    "            text = text.replace(word, \"\")\n",
    "\n",
    "    # Removing more than one whitespaces\n",
    "    text = re.sub(r'\\s+', ' ', text)\n",
    "\n",
    "    return text\n",
    "\n",
    "#creating a new list of processed sentences based on the function above, use of lists to apply the preprocessing() function above\n",
    "sentences_list = sentence_level['Reviews'].tolist()\n",
    "preprocessed_sentences = []\n",
    "for text in tqdm(sentences_list):\n",
    "   preprocessed_sentences.append(preprocessing(text))\n",
    "sentence_level['Reviews'] = preprocessed_sentences\n",
    "\n",
    "\n",
    "#Creating the host_mentioned variable to be used as one of our independant variables\n",
    "# Checking if the name of the host is mentioned\n",
    "sentence_level['host_mentioned'] = None\n",
    "for index,row in tqdm(sentence_level.iterrows()):\n",
    "    nltk_results = ne_chunk(pos_tag(word_tokenize(row['Reviews'])))\n",
    "    for nltk_result in nltk_results:\n",
    "        if type(nltk_result) == Tree and nltk_result.label() == 'PERSON':\n",
    "            sentence_level.at[index, 'host_mentioned'] = 1\n",
    "            break\n",
    "            \n",
    "# Checking if the review contains the word host      \n",
    "for index, row in tqdm(sentence_level.iterrows()):\n",
    "    sentence = row['Reviews']\n",
    "    words = sentence.split()\n",
    "    for word in words:\n",
    "        if word == 'host' or word == 'Host' or word == 'hosts' or word == 'Hosts':\n",
    "            sentence_level.at[index, 'host_mentioned'] = 1\n",
    "            break\n",
    "            \n",
    "# Setting rows where the host is not mentioned to zero          \n",
    "sentence_level['host_mentioned'] = sentence_level['host_mentioned'].apply(lambda x: 0 if pd.isna(x) or x == '' else x)\n",
    "\n",
    "#Finally removing the stopwords and lowercasing all the words for further \n",
    "processed_sentences = []\n",
    "for text in tqdm(preprocessed_sentences):\n",
    "    processed_sentences.append(remove_stopwords(text).lower())\n",
    "\n",
    "#Setting aside 5% of the raw data for judges to build lexicon and saving it to a csv file to be distributed to judges.\n",
    "total_category_lexicon = []\n",
    "for i in range(math.floor(0.05*len(processed_sentences))):\n",
    "    total_category_lexicon.append(processed_sentences[i])\n",
    "df_lexicon = pd.DataFrame(total_category_lexicon, columns = ['Sentences'])\n",
    "df_lexicon.to_csv(\"df_lexicon.csv\", index = False)\n",
    "\n",
    "# Setting another 5% of the raw data for the ground truth, when we want to evaluate our ground truth\n",
    "ground_truth_judges = []\n",
    "for j in range(math.floor(0.05*len(processed_sentences)), math.floor(0.10*len(processed_sentences))):\n",
    "    ground_truth_judges.append(processed_sentences[j])\n",
    "df_ground_truth_judges = pd.DataFrame(ground_truth_judges, columns = ['Sentences'])\n",
    "df_ground_truth_judges.to_csv(\"ground_truth_judges.csv\", index = False)\n",
    "\n",
    "# Rest of the 90% of the data will be used in production (input of the NBC). The other 10% will not be used for any of the classification production.\n",
    "available_sentences = []\n",
    "for k in range(math.floor(0.10*len(processed_sentences)), len(processed_sentences)):\n",
    "    available_sentences.append(processed_sentences[k])"
   ]
  },
  {
   "cell_type": "code",
   "execution_count": 309,
   "id": "1136a642-9398-40dc-bce7-d606f00dc0ba",
   "metadata": {},
   "outputs": [],
   "source": [
    "# creating our dataframe to be used for our NBC classification\n",
    "df_sentences = pd.DataFrame(available_sentences, columns = ['sentences'])\n",
    "df_sentences.to_csv(\"test_df_sentences.csv\", index = False)"
   ]
  },
  {
   "cell_type": "code",
   "execution_count": 310,
   "id": "ae005ee9-1f25-4397-a8b9-0c256cfaf928",
   "metadata": {},
   "outputs": [],
   "source": [
    "#Creating the dataframe that will be used for our analysis (regression)\n",
    "df_last_90_percent = sentence_level.iloc[math.floor(0.10*len(processed_sentences)):len(processed_sentences)]\n",
    "final_df = pd.concat([df_last_90_percent])\n",
    "final_df.to_csv(\"final_df.csv\", index = False)"
   ]
  },
  {
   "cell_type": "markdown",
   "id": "53f6f6c9-60cc-4e51-88ba-5ba160bd235f",
   "metadata": {},
   "source": [
    "`QUESTION II:` Decide on how to aggregate or structure your data. The data you received is at the review level (i.e., each row/observation is a review). However, the variablese in the data are very rich and allow you to use your creativity when designing your *research question*. For example, there are timestamps, which allow you to aggregate the data at the daily level (or even hourly level). There is information on reviewers, which allow you to inspect patterns of rating by reviewers. There is information on the studio's, and more. Please explicitly indicate how you structured your dataset, and what is your motivation to do so. Even if you are using the data at the review level, indicate how and why that is needed for your research question. "
   ]
  },
  {
   "cell_type": "markdown",
   "id": "f6af5c2e-27cf-4af0-b1ec-306b5dbe77ba",
   "metadata": {},
   "source": [
    "`SOLUTION II:` The raw Airbnb dataset, for each row has all the reviews for a particular Airbnb. These reviews will be split in such a way that one row corresponds to one sentence. This is to ensure that classification across the three categories is possible. Secondly, we also go through preprocessing the text before being able to apply to NBC classification, unsupervised learning and final analysis. This includes removing all other characters except the alphaebet (to ensure clean textual analysis), removing stopwords, punctuation and any uppercase alphabetical characters. Finally, the reviews were used to create our host_mentioned binary variable required to answer our research question. "
   ]
  },
  {
   "cell_type": "markdown",
   "id": "eb510ef1-a216-4950-9b1a-8431a2eb6750",
   "metadata": {},
   "source": [
    "# 6. Supervised Learning: the Naive Bayes Classifier (NBC)"
   ]
  },
  {
   "cell_type": "markdown",
   "id": "e07564b4-0ffa-4442-badb-786737034bd7",
   "metadata": {},
   "source": [
    "## 6.0 Load Support Functions and Global Parameters"
   ]
  },
  {
   "cell_type": "markdown",
   "id": "667e62f4-0412-42c0-83ca-39ff3a240434",
   "metadata": {},
   "source": [
    "The two functions, `compute_posterior_sentiment` and `compute_posterior_content`, are called once per review. These functions use the Bayes rule we saw in **Session 02** to compute the posterior probabilities that the review is about each topic (in the 2nd function) and the posterior probability that the sentiment in the review is positive and/or negative (in the 1st function). The functions are loading by executing the code cell below."
   ]
  },
  {
   "cell_type": "code",
   "execution_count": 313,
   "id": "aca5f54d-3c14-4ee4-b23b-caa26da78be5",
   "metadata": {},
   "outputs": [],
   "source": [
    "# Function for computing posterior sentiment\n",
    "def compute_posterior_sentiment(prior, corpus_in, dict_words, p_w_given_c, TOT_DIMENSIONS):\n",
    "    prior = np.array(prior)\n",
    "    vec = CountVectorizer(vocabulary=dict_words, lowercase=False)\n",
    "    word_matrix = vec.fit_transform([corpus_in]).toarray()\n",
    "    # Check if there are any relevant words in the review, if there are, treat them. \n",
    "    # If not, use the prior.\n",
    "    if word_matrix.sum() == 0:\n",
    "        posterior = prior\n",
    "        words_ = ['']\n",
    "    else:\n",
    "        # Positions in word matrix that have words from this review\n",
    "        word_matrix_indices = np.where(word_matrix > 0)[1]\n",
    "\n",
    "        # Initializing posterior vector\n",
    "        posterior = np.zeros(TOT_DIMENSIONS)\n",
    "        vec_likelihood = np.zeros(TOT_DIMENSIONS)\n",
    "\n",
    "        # Loop around words found in review\n",
    "        for word_matrix_index in word_matrix_indices:\n",
    "            word = vec.get_feature_names_out()[word_matrix_index]\n",
    "\n",
    "            # Check if the word exists in p_w_given_c.words\n",
    "            p_w_given_c_indices = np.where(p_w_given_c.words == word)[0]\n",
    "            if p_w_given_c_indices.size > 0:\n",
    "                p_w_given_c_index = p_w_given_c_indices[0]\n",
    "                vec_likelihood = np.array([p_w_given_c.pos_likelihood[p_w_given_c_index], \n",
    "                                           p_w_given_c.neg_likelihood[p_w_given_c_index]])\n",
    "\n",
    "                # Looping around occurrences | word\n",
    "                for i in range(word_matrix[0, word_matrix_index]):\n",
    "                    numerat = prior * vec_likelihood\n",
    "                    denomin = prior.dot(vec_likelihood)\n",
    "                    posterior = numerat / denomin\n",
    "\n",
    "                    if np.sum(posterior) > 1.01:\n",
    "                        raise Exception('ERROR')\n",
    "\n",
    "                    prior = np.array(posterior)\n",
    "\n",
    "        words_ = vec.get_feature_names_out()[word_matrix_indices]\n",
    "\n",
    "    return {'posterior_': posterior, 'words_': words_}\n",
    "# Function for computing posterior content\n",
    "def compute_posterior_content(prior, corpus_in, dict_words, p_w_given_c, BIGRAM, TOT_DIMENSIONS):\n",
    "    vec = CountVectorizer(vocabulary=dict_words, lowercase=False, ngram_range=(1, BIGRAM))\n",
    "    word_matrix = vec.fit_transform([corpus_in]).toarray()\n",
    "\n",
    "    # Check if there are any relevant words in the review, if there are, treat them. \n",
    "    # If not, use the prior.\n",
    "    if word_matrix.sum() == 0:\n",
    "        posterior = prior\n",
    "    else:\n",
    "        # Positions in word matrix that have words from this review\n",
    "        word_matrix_indices = np.where(word_matrix > 0)[1]\n",
    "        posterior = np.zeros(TOT_DIMENSIONS)\n",
    "\n",
    "        # Loop around words found in review\n",
    "        for word_matrix_index in word_matrix_indices:\n",
    "            word = vec.get_feature_names_out()[word_matrix_index]\n",
    "            p_w_given_c_index = np.where(p_w_given_c.Words == word)[0][0]\n",
    "            vec_likelihood = np.array([p_w_given_c.likelihood_cleanliness[p_w_given_c_index], \n",
    "                                       p_w_given_c.likelihood_location[p_w_given_c_index], \n",
    "                                       p_w_given_c.likelihood_facilities[p_w_given_c_index]])\n",
    "\n",
    "             # Looping around occurrences | word\n",
    "            for i in range(word_matrix[0, word_matrix_index]):\n",
    "                numerat = prior * vec_likelihood\n",
    "                denomin = prior.dot(vec_likelihood)\n",
    "                posterior = numerat / denomin\n",
    "\n",
    "                if np.sum(posterior) > 1.01:\n",
    "                    raise Exception('ERROR')\n",
    "\n",
    "                prior = posterior\n",
    "\n",
    "    return {'posterior_': posterior}\n",
    "# Setting Global Parameters\n",
    "PRIOR_SENT = 1/2\n",
    "PRIOR_CONTENT = 1/3 \n",
    "TOT_REVIEWS = len(df_sentences)"
   ]
  },
  {
   "cell_type": "markdown",
   "id": "db5b4aec-34b2-4d29-ae89-d6f535d18f70",
   "metadata": {},
   "source": [
    "## 6.1 Likelihoods"
   ]
  },
  {
   "cell_type": "markdown",
   "id": "fad200a5-9390-4135-b36d-2d79ebc2a4dd",
   "metadata": {},
   "source": [
    "`QUESTION III:` Create the content likelihoods based on the 3 lists of words below. Be explicit on the decisions you took in the process, and why you made those decisions (e.g., which smoothing approach you used)."
   ]
  },
  {
   "cell_type": "markdown",
   "id": "8d062228-667c-47ca-bb42-f2b797ebc308",
   "metadata": {},
   "source": [
    "`SOLUTION III:` After loading the available corpus of all the three categories (which were in the form of sentences), lists corresponding to all three corpora were created. These lists were appended with the words from these sentences. These three lists were concatenated as well to create our dictionary. Following this, the frequencies of these words included in the three corpora were counted. Given that a word from the dictionary might not be included in one of the corpora, 1 was added to all the word frequencies to prevent the 0-likelihood problem (additive smoothing). Thereafter, using the total count of words in each corpora, the final likelihoods were calculated. "
   ]
  },
  {
   "cell_type": "markdown",
   "id": "cb3476e4-c916-409c-894c-2876b1f24709",
   "metadata": {},
   "source": [
    "### 6.1.1 Loading the Dictionaries (Training Data)"
   ]
  },
  {
   "cell_type": "code",
   "execution_count": 314,
   "id": "e0b3c994-e57c-4e32-b0b4-2fed8c1101b3",
   "metadata": {},
   "outputs": [],
   "source": [
    "from nltk.corpus import wordnet as wn\n",
    "#Loading the sentences from judges that were used to build the lexicon\n",
    "lexicon_cleanliness = pd.read_csv(\"../data/cleanliness_lexicon.csv\")\n",
    "lexicon_location = pd.read_csv(\"../data/location_lexicon.csv\")\n",
    "lexicon_facilities = pd.read_csv(\"../data/facilities_lexicon.csv\")\n",
    "\n",
    "corpus_cleanliness = []\n",
    "for sentence in lexicon_cleanliness['lexicon_cleanliness']:\n",
    "    corpus_cleanliness.extend(sentence.split())\n",
    "corpus_location = []\n",
    "for sentence in lexicon_location['lexicon_location']:\n",
    "    corpus_location.extend(sentence.split())\n",
    "corpus_facilities = []\n",
    "for sentence in lexicon_facilities['lexicon_facilities']:\n",
    "    corpus_facilities.extend(sentence.split()) \n",
    "\n",
    "df_corpus_cleanliness = pd.DataFrame({'Words': corpus_cleanliness})\n",
    "df_corpus_location = pd.DataFrame({'Words': corpus_location})\n",
    "df_corpus_facilities = pd.DataFrame({'Words': corpus_facilities})"
   ]
  },
  {
   "cell_type": "markdown",
   "id": "ef2bcaba-56ef-4bab-abe5-ef1b8b213a9f",
   "metadata": {},
   "source": [
    "### 6.1.2 Content/Topic Likelihoods"
   ]
  },
  {
   "cell_type": "code",
   "execution_count": 336,
   "id": "9c241fbf-a583-4488-8b53-5e24b621cd7d",
   "metadata": {},
   "outputs": [],
   "source": [
    "\n",
    "# Building frequencies\n",
    "word_freq_cleanliness = df_corpus_cleanliness['Words'].value_counts().reset_index()\n",
    "word_freq_cleanliness['Frequency_with_smoothing'] = word_freq_cleanliness['count'] + 1\n",
    "\n",
    "word_freq_location  = df_corpus_location ['Words'].value_counts().reset_index()\n",
    "word_freq_location['Frequency_with_smoothing'] = word_freq_location['count'] + 1\n",
    "\n",
    "word_freq_facilities  = df_corpus_facilities['Words'].value_counts().reset_index()\n",
    "word_freq_facilities['Frequency_with_smoothing'] = word_freq_facilities['count'] + 1\n",
    "\n",
    "#Creating final required dataframe\n",
    "all_words = pd.DataFrame()\n",
    "all_words = pd.concat([word_freq_cleanliness['Words'], word_freq_location['Words'], word_freq_facilities['Words']], axis = 0, ignore_index = 0)\n",
    "unique_list = list(set(all_words))\n",
    "likelihoods_content = pd.DataFrame({'Words': unique_list})\n",
    "\n",
    "def find_frequency(word, target_df):\n",
    "    match = target_df[target_df['Words'] == word]\n",
    "    if not match.empty:\n",
    "        return match.iloc[0]['count']\n",
    "    else:\n",
    "        return None\n",
    "\n",
    "likelihoods_content['Frequency_Cleanliness'] = likelihoods_content['Words'].apply(lambda x: find_frequency(x, word_freq_cleanliness))\n",
    "likelihoods_content['Frequency_Location'] = likelihoods_content['Words'].apply(lambda x: find_frequency(x, word_freq_location))\n",
    "likelihoods_content['Frequency_Facilities'] = likelihoods_content['Words'].apply(lambda x: find_frequency(x, word_freq_facilities))\n",
    "\n",
    "likelihoods_content['Frequency_Cleanliness'] = likelihoods_content['Frequency_Cleanliness'].add(1).fillna(1)\n",
    "likelihoods_content['Frequency_Location'] = likelihoods_content['Frequency_Location'].add(1).fillna(1)\n",
    "likelihoods_content['Frequency_Facilities'] = likelihoods_content['Frequency_Facilities'].add(1).fillna(1)\n",
    "\n",
    "likelihoods_content['likelihood_cleanliness'] = likelihoods_content['Frequency_Cleanliness']/ likelihoods_content['Frequency_Cleanliness'].sum()\n",
    "likelihoods_content['likelihood_location'] = likelihoods_content['Frequency_Location']/ likelihoods_content['Frequency_Location'].sum()\n",
    "likelihoods_content['likelihood_facilities'] = likelihoods_content['Frequency_Facilities']/ likelihoods_content['Frequency_Facilities'].sum()\n",
    "\n",
    "likelihoods_content = likelihoods_content.drop(['Frequency_Cleanliness', 'Frequency_Location', 'Frequency_Facilities'], axis=1)\n",
    "\n",
    "#assigning to lexicon_content to be able to run NBC for content\n",
    "lexicon_content = likelihoods_content['Words']\n",
    "\n",
    "likelihoods_content.to_csv(\"likelihood_content.csv\", index = False)                                                                                                                                   "
   ]
  },
  {
   "cell_type": "markdown",
   "id": "75ce0617-dc67-4aff-ae9f-e6fc29fb7991",
   "metadata": {},
   "source": [
    "### 6.1.3 Sentiment Likelihoods"
   ]
  },
  {
   "cell_type": "markdown",
   "id": "7128895d-32ce-41b9-8eab-db8a7bd0d0a9",
   "metadata": {},
   "source": [
    "`QUESTION IV:` Locate a list of sentiment words that fits your research question. For example, you may want to look just at positive and negative sentiment (hence two dimensions), or you may want to look at other sentiment dimensions, such as specific emotions (excitement, fear, etc.).\n",
    "**TIP:** Google will go a long way for finding these, but do check if there is a paper you can cite that uses your list."
   ]
  },
  {
   "cell_type": "markdown",
   "id": "61da311c-46f4-452f-a23d-39f2367fe457",
   "metadata": {},
   "source": [
    "`SOLUTION IV:` The list of sentiment words used were the most common used adjectives in the decade of 2010's. These were the most fitting since reviews usually describe the Airbnb using common adjectives. These adjectives had scores associated with them, which represented how negative or positive these adjectives are (-3.18 being the most negative and 3.07 being the most positive). These scores were then normalised to convert them into a variable between [0,1]. This new variable represents the positive likelihood. Subtracting this pos_likelihood by 1, you get the negative_likelihood."
   ]
  },
  {
   "cell_type": "code",
   "execution_count": 335,
   "id": "2844c305-12ee-4d1a-b009-4a0940420cfa",
   "metadata": {},
   "outputs": [],
   "source": [
    "dictionary_sentiment = pd.read_csv('../data/dictionary_sentiment.csv', encoding = 'ISO-8859-1', delimiter = ';')\n",
    "dictionary_sentiment.head()\n",
    "min_score = -3.18\n",
    "max_score = 3.07\n",
    "\n",
    "\n",
    "#normalising the raw_score\n",
    "dictionary_sentiment['normalised_score'] = (dictionary_sentiment['raw_score'] - min_score) / (max_score - min_score)\n",
    "likelihoods_sentiment = pd.DataFrame({'words': dictionary_sentiment['words'],'pos_likelihood': dictionary_sentiment['normalised_score'], 'neg_likelihood': 1 - dictionary_sentiment['normalised_score']})\n",
    "#likehlihoods_sentiment = likelihoods_sentiment.to_csv(\"likelihoods_sentiment.csv\", index = None)\n",
    "\n",
    "# Converting the first column to a list of strings\n",
    "lexicon_sentiment = likelihoods_sentiment.iloc[:, 0].astype(str).tolist()"
   ]
  },
  {
   "cell_type": "markdown",
   "id": "e04057e5-81fb-4d64-bde9-61bd0185340b",
   "metadata": {},
   "source": [
    "## 6.2 Run NBC for Sentiment"
   ]
  },
  {
   "cell_type": "code",
   "execution_count": 317,
   "id": "8d45f1a3-9897-4867-958a-e356893b883d",
   "metadata": {},
   "outputs": [
    {
     "name": "stderr",
     "output_type": "stream",
     "text": [
      "100%|███████████████████████████████████| 53895/53895 [00:28<00:00, 1875.44it/s]\n"
     ]
    }
   ],
   "source": [
    "df_sentences['prob_sentiment'] = 0.0\n",
    "df_sentences['words_in_lexicon_sentiment_and_review'] = ''\n",
    "\n",
    "for review_index in tqdm(range(TOT_REVIEWS)):\n",
    "    #if (review_index % 100 == 0):\n",
    "        #print(f\"Computing sentiment of review #{review_index}\")\n",
    "        \n",
    "     \n",
    "    # Reset the prior as each review is looked at separately\n",
    "    prior_sent = [PRIOR_SENT, 1-PRIOR_SENT]\n",
    "\n",
    "    text_review = str(df_sentences['sentences'].iloc[review_index])\n",
    "\n",
    "    # Pre-process the review to remove punctuation marks and numbers\n",
    "    # Note: we are not removing stopwords here (nor elsewhere - a point for improvement)\n",
    "    text_review = text_review.translate(str.maketrans('', '', string.punctuation))\n",
    "    text_review = ''.join([i for i in text_review if not i.isdigit()])\n",
    "\n",
    "    # Computing posterior probability the review is positive\n",
    "    TOT_DIMENSIONS = 2\n",
    "    sent_results = compute_posterior_sentiment(prior=prior_sent,\n",
    "                                               corpus_in=text_review,\n",
    "                                               dict_words=lexicon_sentiment,\n",
    "                                               p_w_given_c=likelihoods_sentiment,\n",
    "                                               TOT_DIMENSIONS=TOT_DIMENSIONS)\n",
    "    \n",
    "    words_sent = sent_results['words_']\n",
    "    posterior_sent = sent_results['posterior_']\n",
    "\n",
    "    # Setting the posterior sentiment in the prob_sentiment column\n",
    "    df_sentences.loc[review_index, 'prob_sentiment'] = posterior_sent[0]\n",
    "    df_sentences.loc[review_index, 'words_in_lexicon_sentiment_and_review'] = ' '.join(words_sent)\n",
    "\n",
    "processed_reviews_sentiment = df_sentences\n",
    "\n",
    "# Save the updated file, now including the sentiment and content/topic posteriors.\n",
    "processed_reviews_sentiment.to_csv('../output/test_processed_reviews_sentiment.csv', index=False)"
   ]
  },
  {
   "cell_type": "markdown",
   "id": "9bb237f9-c651-4723-8e94-4dd7aab75207",
   "metadata": {},
   "source": [
    "## 6.3 Run NBC for Content"
   ]
  },
  {
   "cell_type": "code",
   "execution_count": 318,
   "id": "6e19abd2-ef7f-4bbf-beca-9e5d27498585",
   "metadata": {},
   "outputs": [
    {
     "name": "stderr",
     "output_type": "stream",
     "text": [
      "100%|████████████████████████████████████| 53895/53895 [01:09<00:00, 773.51it/s]\n"
     ]
    }
   ],
   "source": [
    "df_sentences['prob_cleanliness'] = 0.0\n",
    "df_sentences['prob_location'] = 0.0\n",
    "df_sentences['prob_facilities'] = 0.0\n",
    "\n",
    "for review_index in tqdm(range(TOT_REVIEWS)):\n",
    "    #print(f'Computing content of review # {review_index}') if review_index%100 == 0 else None\n",
    "    \n",
    "    if df_sentences['sentences'].iloc[review_index] != \"\":\n",
    "        text_review = str(df_sentences['sentences'].iloc[review_index])\n",
    "\n",
    "        # Pre-process the review to remove punctuation marks and numbers\n",
    "        # Note: we are not removing stopwords here (nor elsewhere - a point for improvement)\n",
    "        text_review = text_review.translate(str.maketrans('', '', string.punctuation))\n",
    "        text_review = ''.join([i for i in text_review if not i.isdigit()])\n",
    "        \n",
    "        # Compute posterior probability the review is about each topic/content\n",
    "        TOT_DIMENSIONS = 3\n",
    "        prior_content = np.repeat(PRIOR_CONTENT, TOT_DIMENSIONS).reshape(-1, TOT_DIMENSIONS)\n",
    "        posterior_content = compute_posterior_content(prior=prior_content, \n",
    "                                              corpus_in=text_review,\n",
    "                                              dict_words=lexicon_content,\n",
    "                                              p_w_given_c=likelihoods_content, \n",
    "                                              BIGRAM=2,\n",
    "                                              TOT_DIMENSIONS=TOT_DIMENSIONS)\n",
    "        \n",
    "        df_sentences.loc[review_index, 'prob_cleanliness'] = posterior_content['posterior_'][0][0]\n",
    "        df_sentences.loc[review_index, 'prob_location'] = posterior_content['posterior_'][0][1]\n",
    "        df_sentences.loc[review_index, 'prob_facilities'] = posterior_content['posterior_'][0][2]\n",
    "\n",
    "processed_reviews = df_sentences\n",
    "\n",
    "# Save the updated file, now including the sentiment and content/topic posteriors.\n",
    "processed_reviews.to_csv('../output/test_processed_reviews.csv', index=False)"
   ]
  },
  {
   "cell_type": "markdown",
   "id": "67e2f070-1b68-47f0-80f6-88ddac5e320d",
   "metadata": {},
   "source": [
    "## 6.4: Sentiment per topic calculation"
   ]
  },
  {
   "cell_type": "code",
   "execution_count": 319,
   "id": "ef1ee7a8-bd2a-4c70-8153-43a40bcdcece",
   "metadata": {},
   "outputs": [
    {
     "name": "stderr",
     "output_type": "stream",
     "text": [
      "53895it [00:01, 45815.76it/s]\n"
     ]
    }
   ],
   "source": [
    "df_sentences['binary_cleanliness'] = 0\n",
    "df_sentences['binary_location'] = 0\n",
    "df_sentences['binary_facilities']= 0\n",
    "\n",
    "def get_key(dictionary, target_value):\n",
    "    for key, value in dictionary.items():\n",
    "        if value == target_value:\n",
    "            return key\n",
    "    return None  # Return None if the value is not found\n",
    "\n",
    "categories = ['cleanliness', 'location','facilities']\n",
    "\n",
    "for index, row in tqdm(df_sentences.iterrows()):\n",
    "    prob_list = {'cleanliness': row['prob_cleanliness'], 'location' : row['prob_location'], 'facilities' : row['prob_facilities']}\n",
    "    highest_prob = max(prob_list.values())\n",
    "    key = get_key(prob_list, highest_prob)\n",
    "    if key == 'cleanliness':\n",
    "        df_sentences.at[index, 'binary_cleanliness'] = 1\n",
    "    elif key == 'location':\n",
    "        df_sentences.at[index, 'binary_location'] = 1\n",
    "    else:\n",
    "        df_sentences.at[index, 'binary_facilities'] = 1\n",
    "df_sentences['p(positive|cleanliness)'] = df_sentences['binary_cleanliness']*df_sentences['prob_sentiment']\n",
    "df_sentences['p(positive|location)'] = df_sentences['binary_location']*df_sentences['prob_sentiment']\n",
    "df_sentences['p(positive|facilities)'] = df_sentences['binary_facilities']*df_sentences['prob_sentiment']"
   ]
  },
  {
   "cell_type": "markdown",
   "id": "70e46a97-62f9-41e7-916b-754b0ae4238c",
   "metadata": {},
   "source": [
    "# 7. Supervised Learning: Inspect the NBC Performance"
   ]
  },
  {
   "cell_type": "markdown",
   "id": "6f721df9-58de-4e74-b7c5-ad0449c2cc42",
   "metadata": {},
   "source": [
    "## 7.1 Load the Judge Scores"
   ]
  },
  {
   "cell_type": "code",
   "execution_count": 322,
   "id": "b12176de-180e-4295-ad05-d929b51b7c0d",
   "metadata": {},
   "outputs": [],
   "source": [
    "# Loading the judges scores\n",
    "ground_truth_judges = pd.read_csv('../data/judges/judges_classification.csv')\n",
    "ground_truth_judges['prob_cleanliness'] = 0.0\n",
    "ground_truth_judges['prob_location'] = 0.0\n",
    "ground_truth_judges['prob_facilities'] = 0.0"
   ]
  },
  {
   "cell_type": "markdown",
   "id": "efa88067-1ea3-4c06-8fe3-f4da97ecbe60",
   "metadata": {},
   "source": [
    "## 7.2 Compute Confusion Matrix, Precision, and Recall"
   ]
  },
  {
   "cell_type": "markdown",
   "id": "60cec1a9-5906-4758-8117-a5dd6efe79ab",
   "metadata": {},
   "source": [
    "`QUESTION V:` Compare the performance of your NBC implementation (for content) against the judges ground truth by building the confusion matrix and computing the precision and accuracy scores. **Do not forget to interpret your findings.**"
   ]
  },
  {
   "cell_type": "code",
   "execution_count": 323,
   "id": "734d44bb-e16f-42f2-9ecb-8135eaa236b7",
   "metadata": {},
   "outputs": [
    {
     "name": "stderr",
     "output_type": "stream",
     "text": [
      "100%|██████████████████████████████████████| 1226/1226 [00:01<00:00, 613.06it/s]\n"
     ]
    }
   ],
   "source": [
    "# ADD YOUR CODE HERE.\n",
    "#Running our NBC algorithm for the sentences provided to judges (this was not used in production earlier under 6.3: NBC for content\n",
    "TOT_DIMENSIONS = len(ground_truth_judges)\n",
    "\n",
    "for review_index in tqdm(range(TOT_DIMENSIONS)):\n",
    "    #print(f'Computing content of review # {review_index}') if review_index%100 == 0 else None\n",
    "    \n",
    "    if ground_truth_judges['Sentences'].iloc[review_index] != \"\":\n",
    "        text_review = str(ground_truth_judges['Sentences'].iloc[review_index])\n",
    "\n",
    "        # Pre-process the review to remove punctuation marks and numbers\n",
    "        # Note: we are not removing stopwords here (nor elsewhere - a point for improvement)\n",
    "        text_review = text_review.translate(str.maketrans('', '', string.punctuation))\n",
    "        text_review = ''.join([i for i in text_review if not i.isdigit()])\n",
    "        \n",
    "        # Compute posterior probability the review is about each topic/content\n",
    "        TOT_DIMENSIONS = 3\n",
    "        prior_content = np.repeat(PRIOR_CONTENT, TOT_DIMENSIONS).reshape(-1, TOT_DIMENSIONS)\n",
    "        posterior_content = compute_posterior_content(prior=prior_content, \n",
    "                                              corpus_in=text_review,\n",
    "                                              dict_words=lexicon_content,\n",
    "                                              p_w_given_c=likelihoods_content, \n",
    "                                              BIGRAM=2,\n",
    "                                              TOT_DIMENSIONS=TOT_DIMENSIONS)\n",
    "        \n",
    "        ground_truth_judges.loc[review_index, 'prob_cleanliness'] = posterior_content['posterior_'][0][0]\n",
    "        ground_truth_judges.loc[review_index, 'prob_location'] = posterior_content['posterior_'][0][1]\n",
    "        ground_truth_judges.loc[review_index, 'prob_facilities'] = posterior_content['posterior_'][0][2]\n",
    "\n",
    "processed_judges = ground_truth_judges\n",
    "# Save the updated file, now including the sentiment and content/topic posteriors.\n",
    "processed_judges.to_csv('../output/judges_processed_reviews.csv', index=False)"
   ]
  },
  {
   "cell_type": "code",
   "execution_count": 324,
   "id": "704a6ba8-67b4-4412-9284-7867270d78ee",
   "metadata": {},
   "outputs": [
    {
     "name": "stderr",
     "output_type": "stream",
     "text": [
      "1226it [00:00, 17140.61it/s]\n"
     ]
    }
   ],
   "source": [
    "# Creating a new column 'NBC prediction' to be used to build the confusion matrix\n",
    "ground_truth_judges['NBC prediction'] = None\n",
    "\n",
    "for index, row in tqdm(ground_truth_judges.iterrows()):\n",
    "    prob_list = {'cleanliness': row['prob_cleanliness'], 'location' : row['prob_location'], 'facilities' : row['prob_facilities']}\n",
    "    highest_prob = max(prob_list.values())\n",
    "    key = get_key(prob_list, highest_prob)\n",
    "    for category in categories:\n",
    "        if key == category:\n",
    "            ground_truth_judges.loc[index, 'NBC prediction'] = category\n",
    "\n",
    "processed_judges.to_csv('../output/judges_processed_reviews.csv', index=False)"
   ]
  },
  {
   "cell_type": "code",
   "execution_count": 325,
   "id": "3395f817-c6b5-4b44-b656-3e9b23a92352",
   "metadata": {},
   "outputs": [
    {
     "data": {
      "image/png": "[encoded data removed]",
      "text/plain": [
       "<Figure size 640x480 with 2 Axes>"
      ]
     },
     "metadata": {},
     "output_type": "display_data"
    }
   ],
   "source": [
    "confusion_matrix = metrics.confusion_matrix(ground_truth_judges['Judges_classification'] , ground_truth_judges['NBC prediction'])\n",
    "display_labels = ['cleanliness', 'location', 'facilities']\n",
    "cm_display = metrics.ConfusionMatrixDisplay(confusion_matrix = confusion_matrix, display_labels = display_labels)\n",
    "cm_display.plot()\n",
    "plt.show()"
   ]
  },
  {
   "cell_type": "code",
   "execution_count": 396,
   "id": "cdbbfd56-a6c4-41a6-bc7e-46bbb6971a6a",
   "metadata": {},
   "outputs": [
    {
     "name": "stdout",
     "output_type": "stream",
     "text": [
      "Precision: 0.76\n",
      "Accuracy: 0.71\n",
      "F1-score: 0.71\n",
      "Recalll: 0.71\n"
     ]
    }
   ],
   "source": [
    "#Computing precision, accuracy and f1 score\n",
    "precision = precision_score(ground_truth_judges['Judges_classification'], ground_truth_judges['NBC prediction'], average='weighted')\n",
    "accuracy = accuracy_score(ground_truth_judges['Judges_classification'], ground_truth_judges['NBC prediction'])\n",
    "f1 = f1_score(ground_truth_judges['Judges_classification'], ground_truth_judges['NBC prediction'], average='weighted')\n",
    "recall = recall_score(ground_truth_judges['Judges_classification'], ground_truth_judges['NBC prediction'], average='weighted')\n",
    "\n",
    "print(f'Precision: {precision:.2f}')\n",
    "print(f'Accuracy: {accuracy:.2f}')\n",
    "print(f'F1-score: {f1:.2f}')\n",
    "print(f'Recalll: {recall:.2f}')"
   ]
  },
  {
   "cell_type": "markdown",
   "id": "ff461502-a62d-4a20-a1d5-9f8467c77db1",
   "metadata": {},
   "source": [
    "`SOLUTION V:`\n",
    "According to the confusion matrix seen above, most of the reviews were classified correctly. This is represented by the fact that the number of true positives (878 across the main diagnal) are higher than the false negatives and false positives (351). \n",
    "\n",
    "Accuracy measures the fraction of predictions the NBC classifier got right. A fairly high accuracy percentage of 71% implies that our model was generally able to identify the reviews in the right category. Moreover, a precision percentage of 76% implies that there was a fairly high quality of the positive predictions made by the model. This high score also implies that the model was able to avoid false negatives succesfully in most cases. Thirdly, a recall percentage of 71% that our classifier was able capabable in indentifying true positives across all the positives (true and false). Finally, an F1 perecentage of 71% depicts the overall performance of the classifier and that the NBC had fairly good recall and precision "
   ]
  },
  {
   "cell_type": "markdown",
   "id": "094acf09-939d-45ff-a9a5-23506df6e5ab",
   "metadata": {},
   "source": [
    "# 8. Unsupervised Learning: Predicting Airbnb using LDA"
   ]
  },
  {
   "cell_type": "markdown",
   "id": "ba10f03b-e88b-4fed-b3dd-5326ba9a3a33",
   "metadata": {},
   "source": [
    "`QUESTION VI:` Using Latent Dirichlet Allocation (LDA), predict the airbnb categories."
   ]
  },
  {
   "cell_type": "code",
   "execution_count": 381,
   "id": "08388bf7-f3d3-4606-aa26-d69dcfb0efe5",
   "metadata": {},
   "outputs": [
    {
     "name": "stderr",
     "output_type": "stream",
     "text": [
      "100%|█████████████████████████████████████████████| 5/5 [01:06<00:00, 13.34s/it]\n"
     ]
    }
   ],
   "source": [
    "# ADD YOUR CODE HERE. Note: you are allowed to use the code from Session 03.\n",
    "lexicon_content = likelihoods_content.iloc[:, 0].values.astype('U')\n",
    "#Creating a countvectorizer\n",
    "vectorizer = CountVectorizer(analyzer='word',       \n",
    "                             vocabulary={word: i for i, word in enumerate(lexicon_content)}, \n",
    "                             stop_words='english',             \n",
    "                             lowercase=True,                   \n",
    "                             token_pattern='[a-zA-Z0-9]{3,}',  \n",
    "                            )\n",
    "\n",
    "# Applying the vectorizer\n",
    "data_vectorized = vectorizer.fit_transform(df_sentences['sentences'][0:100])\n",
    "\n",
    "# Setting the LDA parameters\n",
    "SEED = 100\n",
    "ITER = 1000\n",
    "k = 5\n",
    "\n",
    "log_likelihoods_list = []\n",
    "for i in tqdm(range(1,k+1)):\n",
    "    lda_model = LatentDirichletAllocation(n_components=i,               \n",
    "                                      max_iter=ITER,\n",
    "                                      learning_method='online',\n",
    "                                      random_state=SEED,          \n",
    "                                      batch_size=128,            \n",
    "                                      evaluate_every = -1,       \n",
    "                                      n_jobs = -1,               \n",
    "                                     )\n",
    "    lda_output = lda_model.fit_transform(data_vectorized)\n",
    "    log_likelihood_k = lda_model.score(data_vectorized)\n",
    "    log_likelihoods_list.append(log_likelihood_k)"
   ]
  },
  {
   "cell_type": "code",
   "execution_count": 398,
   "id": "f1ac9ac3-eb19-47f7-83a1-b9927496eb8f",
   "metadata": {},
   "outputs": [
    {
     "name": "stdout",
     "output_type": "stream",
     "text": [
      "The log-likelihood for best_likelihood = 4 is -3338.230\n",
      "            Topic1  Topic2  Topic3  Topic4\n",
      "Review_1     0.063   0.063   0.063   0.812\n",
      "Review_2     0.063   0.807   0.064   0.067\n",
      "Review_3     0.023   0.023   0.023   0.931\n",
      "Review_4     0.125   0.625   0.125   0.125\n",
      "Review_5     0.050   0.050   0.050   0.850\n",
      "...            ...     ...     ...     ...\n",
      "Review_96    0.032   0.031   0.905   0.032\n",
      "Review_97    0.026   0.924   0.025   0.025\n",
      "Review_98    0.028   0.915   0.028   0.028\n",
      "Review_99    0.025   0.025   0.025   0.924\n",
      "Review_100   0.037   0.891   0.036   0.036\n",
      "\n",
      "[100 rows x 4 columns]\n"
     ]
    }
   ],
   "source": [
    "best_likelihood = log_likelihoods_list.index(min(log_likelihoods_list))\n",
    "\n",
    "best_lda_model = LatentDirichletAllocation(n_components=best_likelihood,               \n",
    "                                      max_iter=ITER,\n",
    "                                      learning_method='online',\n",
    "                                      random_state=SEED,          \n",
    "                                      batch_size=128,            \n",
    "                                      evaluate_every = -1,       \n",
    "                                      n_jobs = -1,               \n",
    "                                     )\n",
    "best_lda_output = best_lda_model.fit_transform(data_vectorized)\n",
    "\n",
    "print(f\"The log-likelihood for best_likelihood = {best_likelihood} is {log_likelihoods_list[best_likelihood]:.3f}\")\n",
    "\n",
    "# The columns/topics names (formatting)\n",
    "topic_names = [\"Topic\" + str(i + 1) for i in range(best_lda_model.n_components)]\n",
    "\n",
    "# The rows/indices names (formatting)\n",
    "doc_names = [\"Review_\" + str(i + 1) for i in range(data_vectorized.shape[0])]\n",
    "\n",
    "# Posterior probabilities per document by topic\n",
    "df_document_topic = pd.DataFrame(np.round(best_lda_output, 3), columns=topic_names, index=doc_names)\n",
    "print(df_document_topic)"
   ]
  },
  {
   "cell_type": "code",
   "execution_count": 399,
   "id": "c7601dea-02bf-4dcb-9e39-bb4323167759",
   "metadata": {},
   "outputs": [],
   "source": [
    "df_document_topic.to_csv(\"LDA_df_document_topic.csv\", index = False)"
   ]
  },
  {
   "cell_type": "code",
   "execution_count": 401,
   "id": "648ace83-f547-41d6-aff8-6d24243dc950",
   "metadata": {},
   "outputs": [],
   "source": [
    "df_sentences['sentences'][0:100].to_csv(\"LDA_sentences.csv\", index = False)"
   ]
  },
  {
   "cell_type": "markdown",
   "id": "4ade221f-a203-4021-925f-788bb3a7896b",
   "metadata": {},
   "source": [
    "`SOLUTION VI:` Here are the following topics that we were able to classify:\n",
    "**Topic 1:** Reviews in this topic that scored the highest seem to mention general comments of the Airbnb apartment and whether the reviewer like the apartment or not.\n",
    "**Topic 2:** Reviews with the highest scores in this topic seem to be talking about the proximity to other attractions in town of the airbnb. For example, the center of the town, the mountains \n",
    "**Topic 3:** Reviews with the highest score in this topic tend to be about the host. Most comments mention how kind and helpful their host of the Airbnb was.\n",
    "**Topic 4:** Reviews in this topic revolve arond the comfort of their stay. Most reviews mention how cozy and comfortable the airbnb property feels."
   ]
  },
  {
   "cell_type": "markdown",
   "id": "16ae7495-1dee-4ba3-8a08-b1faa5d13320",
   "metadata": {},
   "source": [
    "# 9. Unsupervised Learning: Predicting Airbnb Clusters using Word2Vec"
   ]
  },
  {
   "cell_type": "markdown",
   "id": "2512cda3-f0b2-4693-8987-aab0d6ab2b44",
   "metadata": {},
   "source": [
    "`QUESTION VII:` Using Word2Vec, predict Airbnb reviews.\n",
    "+ **Tip 1:** You can reduce the dimensionality of the output of Word2Vec with PDA/Factor Analysis. This will save you computing time.\n",
    "+ **Tip 2:** Word2Vec wil give you word vectors. You can then compute the average of these word vectors for all words in a review. This will give you vector describing the content of a review, which you can use as your constructed variable(s)."
   ]
  },
  {
   "cell_type": "code",
   "execution_count": 369,
   "id": "3b1dff43-7d5f-47af-ba27-972ea32ab504",
   "metadata": {},
   "outputs": [],
   "source": [
    "# Splitting the full_data into training (70%) and testing (30%) data \n",
    "full_data = df_sentences['sentences'].tolist()\n",
    "\n",
    "training_data = []\n",
    "testing_data = []\n",
    "\n",
    "for i in range(math.floor(0.7*len(full_data))):\n",
    "    training_data.append(full_data[i])\n",
    "\n",
    "for j in range(math.floor(0.7*len(full_data)), len(full_data)):\n",
    "    testing_data.append(full_data[j])"
   ]
  },
  {
   "cell_type": "code",
   "execution_count": 370,
   "id": "7af8d4ec-0b22-421a-a775-2f0e13e8b40c",
   "metadata": {},
   "outputs": [],
   "source": [
    "# Tokenizing each sentence in the training data into a list of words\n",
    "training_data = [simple_preprocess(line, deacc=True) for line in training_data]\n",
    "\n",
    "# Number of topics for Word2Vec\n",
    "topics_word2vec = 15\n",
    "\n",
    "# Training the Word2Vec model\n",
    "model = Word2Vec(training_data, vector_size=topics_word2vec, sg=0, epochs=20)\n",
    "\n",
    "# The embeddings in gensim's Word2Vec model can be accessed via the 'wv' attribute\n",
    "embeddings = model.wv"
   ]
  },
  {
   "cell_type": "code",
   "execution_count": 371,
   "id": "29664d96-7592-4092-966d-50ddcee6d50c",
   "metadata": {},
   "outputs": [],
   "source": [
    "# Testing our Word2Vec model using our testing_data\n",
    "# Initializing the embeddings matrix\n",
    "all_embeddings = np.zeros((len(testing_data), topics_word2vec))\n",
    "\n",
    "# Looping through each review\n",
    "for review in range(len(testing_data)):\n",
    "    # Tokenizing the review: identify the words, separately\n",
    "    tokenized_review = simple_preprocess(testing_data[review])\n",
    "    # Getting the word vectors per review\n",
    "    embedding_review = [] # Initializing an empty list to store the word vectors\n",
    "    # Looping through each word in the tokenized review\n",
    "    for word in tokenized_review:\n",
    "        # Checking if the word exists in the Word2Vec model vocabulary\n",
    "        if word in model.wv.key_to_index:\n",
    "            # If it does, get its vector and add it to the list\n",
    "            word_vector = model.wv[word]\n",
    "            embedding_review.append(word_vector)\n",
    "    \n",
    "    # Here, we handle the case where none of the words in the review are in the Word2Vec vocabulary\n",
    "    if not embedding_review:\n",
    "        continue\n",
    "    \n",
    "    # Compute mean across all words in the review \n",
    "    all_embeddings[review, :] = np.mean(embedding_review, axis=0)"
   ]
  },
  {
   "cell_type": "code",
   "execution_count": 372,
   "id": "c5c49f96-9c0d-4369-9205-5b4e585c6a0b",
   "metadata": {},
   "outputs": [],
   "source": [
    "# Word embeddings per document by topic (these are not probabilities!)\n",
    "# The columns/topics names (formatting)\n",
    "topic_names_w2v = [\"Topic\" + str(i + 1) for i in range(topics_word2vec)]\n",
    "\n",
    "# The rows/indices names (formatting)\n",
    "doc_names_w2v = [\"Review_\" + str(i + 1) for i in range(all_embeddings.shape[0])]\n",
    "\n",
    "# Posterior probabilities per document by topic\n",
    "df_document_w2v_topic = pd.DataFrame(np.round(all_embeddings, 3), columns=topic_names_w2v, index=doc_names_w2v)"
   ]
  },
  {
   "cell_type": "code",
   "execution_count": 373,
   "id": "fb56d07f-f1f7-442f-aedb-f4728428fa4d",
   "metadata": {},
   "outputs": [],
   "source": [
    "#Applying PCA to reduce the total number of dimensions of the review vectors from 10 to 2\n",
    "def compute_pca(X):\n",
    "    # mean center the data\n",
    "    X_demeaned = X - np.mean(X, axis = 0)\n",
    "    \n",
    "    # calculate the covariance matrix\n",
    "    covariance_matrix = np.cov(X_demeaned, rowvar = False)\n",
    "\n",
    "    # calculate eigenvectors & eigenvalues of the covariance matrix\n",
    "    eigen_vals, eigen_vecs = np.linalg.eigh(covariance_matrix)\n",
    "\n",
    "    idx_sorted = np.argsort(eigen_vals)\n",
    "    idx_sorted_decreasing = idx_sorted[::-1]\n",
    "    eigen_vals_sorted = eigen_vals[idx_sorted_decreasing]\n",
    "    eigen_vecs_sorted = eigen_vecs[:,idx_sorted_decreasing]\n",
    "    eigen_vecs_subset = eigen_vecs_sorted[:,0:2]\n",
    "    \n",
    "    # transform the data by multiplying the transpose of the eigenvectors with the transpose of the de-meaned data\n",
    "    # Then take the transpose of that product.\n",
    "    product = np.dot(np.transpose(eigen_vecs_subset),np.transpose(X_demeaned))\n",
    "    X_reduced = np.transpose(product)\n",
    "\n",
    "    return X_reduced\n",
    "\n",
    "X_reduced = compute_pca(df_document_w2v_topic)"
   ]
  },
  {
   "cell_type": "code",
   "execution_count": 434,
   "id": "d9ef4a59-a43a-4cb1-9840-c773e0c4912d",
   "metadata": {},
   "outputs": [
    {
     "name": "stderr",
     "output_type": "stream",
     "text": [
      "/Users/kunalr/Desktop/Big-Data-2023-Module-1-main/venv/lib/python3.11/site-packages/sklearn/cluster/_kmeans.py:1412: FutureWarning: The default value of `n_init` will change from 10 to 'auto' in 1.4. Set the value of `n_init` explicitly to suppress the warning\n",
      "  super()._check_params_vs_input(X, default_n_init=10)\n"
     ]
    },
    {
     "data": {
      "image/png": "[encoded data removed]",
      "text/plain": [
       "<Figure size 800x600 with 1 Axes>"
      ]
     },
     "metadata": {},
     "output_type": "display_data"
    }
   ],
   "source": [
    "#Apply k-means clustering\n",
    "k = 3\n",
    "kmeans = KMeans(n_clusters=k, random_state=0).fit(X_reduced)\n",
    "cluster_labels = kmeans.labels_\n",
    "\n",
    "plt.figure(figsize=(8, 6))\n",
    "colors = ['c','m','k']\n",
    "\n",
    "# Plot the data points with cluster assignments\n",
    "for cluster in range(k):\n",
    "    cluster_data = X_reduced[cluster_labels == cluster]\n",
    "    plt.scatter(cluster_data[:, 0], cluster_data[:, 1], label=f'Cluster {cluster}', c=colors[cluster])\n",
    "    \n",
    "# Add labels and legend\n",
    "plt.xlabel('Dimension 1')\n",
    "plt.ylabel('Dimension 2')\n",
    "plt.legend()\n",
    "plt.title('K-Means Clustering of Word2Vec Output')\n",
    "\n",
    "# Show the plot\n",
    "plt.show()\n",
    "\n",
    "#Creating binary variables dataframe\n",
    "cluster_1 = np.zeros(len(cluster_labels), dtype=int)\n",
    "cluster_2 = np.zeros(len(cluster_labels), dtype=int)\n",
    "cluster_3 = np.zeros(len(cluster_labels), dtype=int)\n",
    "\n",
    "# Assign values to binary lists based on cluster assignments\n",
    "for i, label in enumerate(cluster_labels):\n",
    "    if label == 0:\n",
    "        cluster_1[i] = 1\n",
    "    elif label == 1:\n",
    "        cluster_2[i] = 1\n",
    "    elif label == 2:\n",
    "        cluster_3[i] = 1"
   ]
  },
  {
   "cell_type": "markdown",
   "id": "347a83e3-1f6c-42a8-a0fe-84ef40db06e9",
   "metadata": {},
   "source": [
    "`SOLUTION VII:`\n",
    "These were the following steps taken to create sentence embeddings for our reviews. Firstly, the set of total reviews (full_data) was split into training and testing data at a 70v30% split respectively. After this, the Word2Vec model was trained using only training data. Thereafter, the testing data was used to create embeddings of our reviews. Given that the output of the Word2Vec model is a word embedding, the mean of all the word emebeddings included in one review was calculated. This gave us a vector representation for each sentence across 10 dimensions. However, to reduce the computation time and also be able to visualise our data, a PCA algorithm was deployed to reduce the dimensions from 10 to 2 for each review. After this, k-means clustering was applied to cluster all the reviews into 3 cluster, which correspond to out three categories cleanliness, location and facilities. Finally, in section 10, we will run a regression with these classified cluster columns."
   ]
  },
  {
   "cell_type": "markdown",
   "id": "943293af-4093-4984-921b-4d9c8226bd74",
   "metadata": {},
   "source": [
    "# 10. Analysis: Use the constructed variables to answer your research question"
   ]
  },
  {
   "cell_type": "markdown",
   "id": "70af398c-c5b0-4ee6-b64a-548071cd52ca",
   "metadata": {},
   "source": [
    "`QUESTION VIII:` Now that you have constructed your NLP variables for sentiment and content using both supervised and unsupervised methods, use them to answer your original research question."
   ]
  },
  {
   "cell_type": "code",
   "execution_count": 342,
   "id": "9c1c971c-2e3e-4870-94b5-c4589589e60d",
   "metadata": {},
   "outputs": [],
   "source": [
    "# ADD YOUR CODE HERE. The code for the analysis of your research question should be written here.\n",
    "#Setting up our final datframe\n",
    "rating = final_df['Rating'].tolist()\n",
    "total_reviews = final_df['Total Reviews'].tolist()\n",
    "host_mentioned = final_df['host_mentioned'].tolist()\n",
    "df_sentences['rating'] = rating\n",
    "df_sentences['total_reviews'] = total_reviews\n",
    "df_sentences['host_mentioned'] = host_mentioned"
   ]
  },
  {
   "cell_type": "code",
   "execution_count": 402,
   "id": "00157d9f-2784-4919-9e6e-4ccff3998a62",
   "metadata": {},
   "outputs": [
    {
     "name": "stdout",
     "output_type": "stream",
     "text": [
      "                            OLS Regression Results                            \n",
      "==============================================================================\n",
      "Dep. Variable:                 rating   R-squared:                       0.014\n",
      "Model:                            OLS   Adj. R-squared:                  0.014\n",
      "Method:                 Least Squares   F-statistic:                     155.9\n",
      "Date:                Sun, 24 Sep 2023   Prob (F-statistic):          5.03e-165\n",
      "Time:                        22:32:22   Log-Likelihood:                 7015.6\n",
      "No. Observations:               53895   AIC:                        -1.402e+04\n",
      "Df Residuals:                   53889   BIC:                        -1.397e+04\n",
      "Df Model:                           5                                         \n",
      "Covariance Type:            nonrobust                                         \n",
      "===========================================================================================\n",
      "                              coef    std err          t      P>|t|      [0.025      0.975]\n",
      "-------------------------------------------------------------------------------------------\n",
      "intercept                   4.8053      0.003   1433.045      0.000       4.799       4.812\n",
      "interaction_term            0.0200      0.003      6.015      0.000       0.013       0.026\n",
      "p(positive|cleanliness)     0.0100      0.005      1.873      0.061      -0.000       0.020\n",
      "p(positive|location)        0.0191      0.005      3.967      0.000       0.010       0.029\n",
      "p(positive|facilities)      0.0114      0.005      2.149      0.032       0.001       0.022\n",
      "total_reviews               0.0002   9.22e-06     26.697      0.000       0.000       0.000\n",
      "==============================================================================\n",
      "Omnibus:                    37889.590   Durbin-Watson:                   0.083\n",
      "Prob(Omnibus):                  0.000   Jarque-Bera (JB):           857585.058\n",
      "Skew:                          -3.124   Prob(JB):                         0.00\n",
      "Kurtosis:                      21.517   Cond. No.                     1.17e+03\n",
      "==============================================================================\n",
      "\n",
      "Notes:\n",
      "[1] Standard Errors assume that the covariance matrix of the errors is correctly specified.\n",
      "[2] The condition number is large, 1.17e+03. This might indicate that there are\n",
      "strong multicollinearity or other numerical problems.\n"
     ]
    }
   ],
   "source": [
    "#Regression model 1 - Supervised Learning\n",
    "#creating the interaction variable in the dataframe\n",
    "df_sentences['interaction_term'] = df_sentences['host_mentioned']*df_sentences['prob_sentiment']\n",
    "df_sentences['intercept'] =1\n",
    "\n",
    "\n",
    "X = df_sentences[['intercept', 'interaction_term' ,'p(positive|cleanliness)', 'p(positive|location)', 'p(positive|facilities)', 'total_reviews']]\n",
    "y = df_sentences['rating']\n",
    "\n",
    "model = sm.OLS(y, X).fit()\n",
    "coefficients = model.params\n",
    "print(model.summary())"
   ]
  },
  {
   "cell_type": "code",
   "execution_count": 435,
   "id": "a6405d93-855b-439b-84c3-0cf839adec11",
   "metadata": {},
   "outputs": [
    {
     "name": "stdout",
     "output_type": "stream",
     "text": [
      "                            OLS Regression Results                            \n",
      "==============================================================================\n",
      "Dep. Variable:                 rating   R-squared:                       0.015\n",
      "Model:                            OLS   Adj. R-squared:                  0.015\n",
      "Method:                 Least Squares   F-statistic:                     61.96\n",
      "Date:                Sun, 24 Sep 2023   Prob (F-statistic):           4.76e-52\n",
      "Time:                        23:31:14   Log-Likelihood:                 6827.0\n",
      "No. Observations:               16169   AIC:                        -1.364e+04\n",
      "Df Residuals:                   16164   BIC:                        -1.361e+04\n",
      "Df Model:                           4                                         \n",
      "Covariance Type:            nonrobust                                         \n",
      "====================================================================================\n",
      "                       coef    std err          t      P>|t|      [0.025      0.975]\n",
      "------------------------------------------------------------------------------------\n",
      "intercept            3.6391      0.001   2529.565      0.000       3.636       3.642\n",
      "interaction_term     0.0320      0.005      6.414      0.000       0.022       0.042\n",
      "total_reviews        0.0001   8.96e-06     13.340      0.000       0.000       0.000\n",
      "cluster_1            1.2254      0.002    576.140      0.000       1.221       1.230\n",
      "cluster_2            1.2112      0.002    756.065      0.000       1.208       1.214\n",
      "cluster_3            1.2026      0.002    502.114      0.000       1.198       1.207\n",
      "==============================================================================\n",
      "Omnibus:                    12642.134   Durbin-Watson:                   0.072\n",
      "Prob(Omnibus):                  0.000   Jarque-Bera (JB):           460299.415\n",
      "Skew:                          -3.462   Prob(JB):                         0.00\n",
      "Kurtosis:                      28.205   Cond. No.                     6.46e+16\n",
      "==============================================================================\n",
      "\n",
      "Notes:\n",
      "[1] Standard Errors assume that the covariance matrix of the errors is correctly specified.\n",
      "[2] The smallest eigenvalue is 1.41e-25. This might indicate that there are\n",
      "strong multicollinearity problems or that the design matrix is singular.\n"
     ]
    }
   ],
   "source": [
    "#Regression model 2 - Unsupervised learning Word2Vec model\n",
    "# This is a continuation from the k-means clustering of the Word2Vec model in Section 9\n",
    "\n",
    "test_data_length = len(full_data) - math.floor(0.7*len(full_data))\n",
    "reviews_last_30_percent = df_sentences.tail(test_data_length)\n",
    "\n",
    "#Creating a copy of the dataframe to be able to use in our regression model\n",
    "df_copy = reviews_last_30_percent.copy()\n",
    "df_copy['cluster_1'] = cluster_1.astype(int)\n",
    "df_copy['cluster_2'] = cluster_2.astype(int)\n",
    "df_copy['cluster_3'] = cluster_3.astype(int)\n",
    "\n",
    "# apply multiple regression on this model with the independant variables \n",
    "X_unsupervised = df_copy[['intercept', 'interaction_term' ,'total_reviews', 'cluster_1', 'cluster_2', 'cluster_3']]\n",
    "y_unsupervised = df_copy['rating']\n",
    "\n",
    "model_unsupervised = sm.OLS(y_unsupervised, X_unsupervised).fit()\n",
    "coefficients = model_unsupervised.params\n",
    "print(model_unsupervised.summary())"
   ]
  },
  {
   "cell_type": "markdown",
   "id": "5b0ea384-f220-4ecc-a0dc-efc88dbd4d0a",
   "metadata": {},
   "source": [
    "`SOLUTION VIII:`\n",
    "\n",
    "`Regression model 1 analysis - Supervised learning`\n",
    "From the output of the OLS model above, we see that all our independant variables have positive coeffecients which implies that there is a positive effect on the Airbnb rating. Firstly, the positive and statistically significant (at a 5% significance level) interaction term represents that when the host is mentioned review, a higher probability of a positive review has an even more positive impact on the rating when compared to when the host is not mentioned in the review. Therefore, for every unit increase in this interactio term, the rating of the Airbnb increases by 0.02\n",
    "Secondly, the coeffecients for the variables that look at the probability across the three categories of reviews is positive and statistically significant (at a 10% significane level). More specifically, For every unit increase in the positive sentiment across cleanliness, location and facilities, the airbnb rating increases by 0.010, 0.019 and 0.011 respectively. We notice that a positive sentiment across location has the largest effect (almost double of that across cleanliness and facilities).\n",
    "Finally, the we realise that the total number of reviews, despite being statistically significant has a very small positive effect on the airbnb reviews\n",
    "\n",
    "`Regression model 2 analysis Unsupervised Word2Vec`\n",
    "From the output of the second regression model we can see that the coeffecients for the cluster variables we created have a signficant effect. All three coeffecients for the three clusters seem to have a positive effect. However, cluster_1 seems to have the highest value, implying that if a review is in cluster 1, the airbnb ratings tend to be slightly higher. However, given that the coeffecients are more or less equal, it is a far reach to reach to that conclusion. We also see that the coeffecients of our interaction term is a lot higher in magnitude when compared to the case of supervised learning in regression model 1. These coeffecients still remain signficant.\n",
    "\n",
    "`Answering our research question`\n",
    "Therefore, to answer: To what extent are Airbnb ratings affected when sentiment about the host and sentiment towards cleanliness, location and facilities of the Airbnb are mentioned in an Airbnb review? \n",
    "Using all the analysis, we can confirm that positive sentiment towards the host seems to have a positive and significant effect towards the Airbnb ratings. Moreover, positive sentiment towards different aspects of the Airbnb itself also seems to have a positive effect towards the Airbnb, albeit these effects seem to be smaller when compared to sentiment towards the host,\n",
    "\n"
   ]
  },
  {
   "cell_type": "markdown",
   "id": "a82c7a5c-63ba-4a0f-b313-8bc50d0272c1",
   "metadata": {
    "jp-MarkdownHeadingCollapsed": true
   },
   "source": [
    "# OPTIONAL: Run and interpret sentiment with the supervised learning VADER lexicon"
   ]
  },
  {
   "cell_type": "markdown",
   "id": "6ac9cc3b-1f44-49c0-a55b-2a74c97af14a",
   "metadata": {},
   "source": [
    "`QUESTION IX (optional):` Using the VADER code you received in the lecture, compute the sentiment using the VADER package. Compare the performance of your NBC implementation (for sentiment) assuming that the VADER classification were the ground truth and then build the confusion matrix, compute the precision, and computre the recall. **Note** that we are now interested in understanding how much the two classifications differ and how, but we are not implying that VADER is error-free, far from it. We are interested in uncovering sources of systemic differences that can be attributed to the algorithms or lexicons. **Do interpret your findings**."
   ]
  },
  {
   "cell_type": "code",
   "execution_count": 28,
   "id": "154b3a6b-8c8c-432e-858a-3fb3da7c6276",
   "metadata": {},
   "outputs": [],
   "source": [
    "# ADD YOUR CODE HERE."
   ]
  },
  {
   "cell_type": "markdown",
   "id": "c8ca24d3-0ef6-44d3-8321-edba0eff360b",
   "metadata": {},
   "source": [
    "`SOLUTION IX (optional):`"
   ]
  },
  {
   "cell_type": "markdown",
   "id": "644eb11f-f85d-4c83-99a9-9224b8ca53a8",
   "metadata": {
    "jp-MarkdownHeadingCollapsed": true
   },
   "source": [
    "# APPENDIX"
   ]
  },
  {
   "cell_type": "code",
   "execution_count": null,
   "id": "fb8b9a2d-acdd-498d-a5e5-7d2ede8e3ef3",
   "metadata": {},
   "outputs": [],
   "source": []
  }
 ],
 "metadata": {
  "kernelspec": {
   "display_name": "Python 3 (ipykernel)",
   "language": "python",
   "name": "python3"
  },
  "language_info": {
   "codemirror_mode": {
    "name": "ipython",
    "version": 3
   },
   "file_extension": ".py",
   "mimetype": "text/x-python",
   "name": "python",
   "nbconvert_exporter": "python",
   "pygments_lexer": "ipython3",
   "version": "3.11.2"
  }
 },
 "nbformat": 4,
 "nbformat_minor": 5
}
